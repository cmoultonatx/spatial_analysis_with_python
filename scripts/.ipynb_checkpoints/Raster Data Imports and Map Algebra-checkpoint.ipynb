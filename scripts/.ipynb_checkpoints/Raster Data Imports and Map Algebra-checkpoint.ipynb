{
 "cells": [
  {
   "cell_type": "markdown",
   "metadata": {},
   "source": [
    "In this notebook, we'll explore the basics of raster image processing in open source Python. Here, we will stack raw Landsat bands to a single 4-band Geotiff and calculate the Normalized Difference Vegetation Index (NDVI) for the Austin area, a typical metric for vegetation health."
   ]
  },
  {
   "cell_type": "code",
   "execution_count": 1,
   "metadata": {},
   "outputs": [],
   "source": [
    "import os\n",
    "import numpy as np\n",
    "from osgeo import gdal, ogr, osr\n",
    "import matplotlib.pyplot as plt\n",
    "\n",
    "%matplotlib inline"
   ]
  },
  {
   "cell_type": "markdown",
   "metadata": {},
   "source": [
    "Since I can't store Landsat imagery on Github, download a Landsat image from the USGS. Typically they come as separate Geotiffs for each band. Here, I stored them all in one directory of raw landsat images. Specify this directory as well as an output directory."
   ]
  },
  {
   "cell_type": "code",
   "execution_count": null,
   "metadata": {},
   "outputs": [],
   "source": [
    "#In directory with the original 8 bands:\n",
    "in_tif_dir = r\"C:\\Users\\moult\\Documents\\geospatial\\data\\austin\\austin_raw_landsat\\2020_04_12\"\n",
    "#Output directory to save the stacked image to\n",
    "out_tif_dir = r\"C:\\Users\\moult\\Documents\\geospatial\\data\\austin\\austin_merged_landsat\"\n",
    "#Output geotiff name, with extension\n",
    "out_tif_name = 'Austin_Landsat_NDVI_2020.tif'\n",
    "\n",
    "#Checking if directory exists\n",
    "if not os.path.exists(out_tif_dir):\n",
    "    os.mkdir(out_tif_dir)\n",
    "    \n",
    "out_tif_path = os.path.join(out_tif_dir,\n",
    "                            out_tif_name)"
   ]
  },
  {
   "cell_type": "markdown",
   "metadata": {},
   "source": [
    "We now get to dive into GDAL head first. Here, we instantiate the Geotiff driver for reading and writing Geotiff format:"
   ]
  },
  {
   "cell_type": "code",
   "execution_count": null,
   "metadata": {},
   "outputs": [],
   "source": [
    "tif_driver = gdal.GetDriverByName('GTiff')"
   ]
  },
  {
   "cell_type": "markdown",
   "metadata": {},
   "source": [
    "Next, we will walk through all the files in the in tif directory to find the appropriate paths. The band reference list variable corresponds to the Red, Blue, Green, and NIR bands respectively which we will be using for the NDVI.\n",
    "\n",
    "For each geotiff, we use gdal to open the file and read the raster band as a numpy array. We then append that array to a list of arrayts to eventually stack."
   ]
  },
  {
   "cell_type": "code",
   "execution_count": null,
   "metadata": {},
   "outputs": [],
   "source": [
    "band_reference_list = [2, 3, 4, 5]\n",
    "tif_arr_list = []\n",
    "\n",
    "for dirs, subdirs, files in os.walk(in_tif_dir):\n",
    "    for file in files:\n",
    "        fname = file.split('.')[0]\n",
    "        ext = file.split('.')[-1].lower()\n",
    "        if ext == 'tif':\n",
    "            for band_num in band_reference_list:\n",
    "                if fname.endswith('B{}'.format(band_num)):\n",
    "                    geotiff_path = os.path.join(dirs, file)\n",
    "                    ds = gdal.Open(geotiff_path)\n",
    "                    arr = ds.GetRasterBand(1).ReadAsArray()       \n",
    "                    tif_arr_list.append(arr)\n",
    "in_array = np.array(tif_arr_list)"
   ]
  },
  {
   "cell_type": "markdown",
   "metadata": {},
   "source": [
    "Now that we've got the 4 bands required, let's compute NDVI quickly:"
   ]
  },
  {
   "cell_type": "code",
   "execution_count": null,
   "metadata": {},
   "outputs": [],
   "source": [
    "red = in_array[0,:,:]\n",
    "nir = in_array[3,:,:]\n",
    "\n",
    "ndvi = (nir - red) / (nir + red)"
   ]
  },
  {
   "cell_type": "markdown",
   "metadata": {},
   "source": [
    "Next, we open the most recent geotiff to gather the appropriate spatial reference information. Specifically, the Geotransform (a 6-value tuple which defines the position, rotation, and pixel size) and the projection. "
   ]
  },
  {
   "cell_type": "code",
   "execution_count": null,
   "metadata": {},
   "outputs": [],
   "source": [
    "in_ds = gdal.Open(geotiff_path)\n",
    "in_gt = in_ds.GetGeoTransform()\n",
    "prj = in_ds.GetProjection()\n",
    "srs = osr.SpatialReference(wkt=prj)"
   ]
  },
  {
   "cell_type": "markdown",
   "metadata": {},
   "source": [
    "Here, we create a new geotiff data source through the geotiff driver. We accomplish this by specifying the file path, shape in x and y, number of bands, and data type. We then specify the projection and geotransform:"
   ]
  },
  {
   "cell_type": "code",
   "execution_count": null,
   "metadata": {},
   "outputs": [],
   "source": [
    "out_tif = tif_driver.Create(out_tif_path, \n",
    "                            tif_arr_list[0].shape[1],\n",
    "                            tif_arr_list[0].shape[0],\n",
    "                            len(tif_arr_list)+1,\n",
    "                            gdal.GDT_Float64)\n",
    "\n",
    "out_tif.SetProjection(srs.ExportToWkt())\n",
    "out_tif.SetGeoTransform(in_gt);"
   ]
  },
  {
   "cell_type": "markdown",
   "metadata": {},
   "source": [
    "Lastly, we loop through each array in the original geotiff's arrays and write them to the multi-band image:"
   ]
  },
  {
   "cell_type": "code",
   "execution_count": null,
   "metadata": {},
   "outputs": [],
   "source": [
    "for i in range(1, len(tif_arr_list)+1):\n",
    "    out_band = out_tif.GetRasterBand(i)\n",
    "    out_band.WriteArray(arr)\n",
    "    \n",
    "ndvi_band = out_tif.GetRasterBand(5)\n",
    "ndvi_band.WriteArray(ndvi)\n",
    "out_tif.FlushCache()\n",
    "del out_tif"
   ]
  },
  {
   "cell_type": "markdown",
   "metadata": {},
   "source": [
    "Voila! In just a handful of lines of code we just stacked 4 separate geotiffs into a single multiband geotiff. Let's take a look at the results:"
   ]
  },
  {
   "cell_type": "code",
   "execution_count": null,
   "metadata": {},
   "outputs": [],
   "source": []
  },
  {
   "cell_type": "code",
   "execution_count": null,
   "metadata": {},
   "outputs": [],
   "source": [
    "fig, ax = plt.subplots(figsize=(20,10))\n",
    "\n",
    "in_array = np.dstack(np.array(tif_arr_list))\n",
    "\n",
    "ax.imshow(in_array[:,:,3], cmap=plt.cm.Greys_r)"
   ]
  },
  {
   "cell_type": "markdown",
   "metadata": {},
   "source": [
    "How about we compute NDVI in just a couple lines?"
   ]
  },
  {
   "cell_type": "code",
   "execution_count": null,
   "metadata": {},
   "outputs": [],
   "source": []
  },
  {
   "cell_type": "code",
   "execution_count": null,
   "metadata": {},
   "outputs": [],
   "source": [
    "out_ndvi = tif_driver.Create(out_tif_path, \n",
    "                            tif_arr_list[0].shape[1],\n",
    "                            tif_arr_list[0].shape[0],\n",
    "                            len(tif_arr_list),\n",
    "                            gdal.GDT_Float64)\n",
    "\n",
    "out_tif.SetProjection(srs.ExportToWkt())\n",
    "out_tif.SetGeoTransform(in_gt);"
   ]
  },
  {
   "cell_type": "code",
   "execution_count": null,
   "metadata": {},
   "outputs": [],
   "source": []
  }
 ],
 "metadata": {
  "kernelspec": {
   "display_name": "Python 3",
   "language": "python",
   "name": "python3"
  },
  "language_info": {
   "codemirror_mode": {
    "name": "ipython",
    "version": 3
   },
   "file_extension": ".py",
   "mimetype": "text/x-python",
   "name": "python",
   "nbconvert_exporter": "python",
   "pygments_lexer": "ipython3",
   "version": "3.7.8"
  }
 },
 "nbformat": 4,
 "nbformat_minor": 4
}
