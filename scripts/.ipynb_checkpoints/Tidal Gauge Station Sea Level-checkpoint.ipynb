{
 "cells": [
  {
   "cell_type": "code",
   "execution_count": 1,
   "metadata": {},
   "outputs": [],
   "source": [
    "import pandas as pd\n",
    "import geopandas as gpd\n",
    "\n",
    "\n",
    "from requests import request\n",
    "from math import ceil\n",
    "from shapely.geometry import MultiPoint\n",
    "\n",
    "from IPython.display import Javascript, display\n",
    "from ipywidgets import widgets\n",
    "from ipyleaflet import Map, GeoData, basemaps, LayersControl\n",
    "\n",
    "\n",
    "import matplotlib.pyplot as plt\n",
    "%matplotlib inline"
   ]
  },
  {
   "cell_type": "code",
   "execution_count": 2,
   "metadata": {},
   "outputs": [],
   "source": [
    "base_url = 'https://idpgis.ncep.noaa.gov/arcgis/rest/services/NOS_Observations/CO_OPS_Stations/MapServer/1/'\n",
    "# base_url = 'https://idpgis.ncep.noaa.gov/arcgis/rest/services/NOS_Observations/CO_OPS_Stations/MapServer/2/'"
   ]
  },
  {
   "cell_type": "code",
   "execution_count": 3,
   "metadata": {},
   "outputs": [
    {
     "name": "stdout",
     "output_type": "stream",
     "text": [
      "Total number of features in this dataset: 2723\n"
     ]
    }
   ],
   "source": [
    "oid_url = base_url +'query?where=objectId>0&returnGeometry=false&returnIdsOnly=true&f=json'\n",
    "response = request(method='GET',\n",
    "                   url=oid_url)\n",
    "\n",
    "assert response.ok\n",
    "num_features = len(response.json()['objectIds'])\n",
    "max_features = ceil(num_features / 100) * 100\n",
    "print(\"Total number of features in this dataset: {0}\".format(num_features))"
   ]
  },
  {
   "cell_type": "code",
   "execution_count": 4,
   "metadata": {},
   "outputs": [
    {
     "name": "stdout",
     "output_type": "stream",
     "text": [
      "Successfully returned OIDs 0:100\n",
      "Successfully returned OIDs 100:200\n",
      "Successfully returned OIDs 200:300\n",
      "Successfully returned OIDs 300:400\n",
      "Successfully returned OIDs 400:500\n",
      "Successfully returned OIDs 500:600\n",
      "Successfully returned OIDs 600:700\n",
      "Successfully returned OIDs 700:800\n",
      "Successfully returned OIDs 800:900\n",
      "Successfully returned OIDs 900:1000\n",
      "Successfully returned OIDs 1000:1100\n",
      "Successfully returned OIDs 1100:1200\n",
      "Successfully returned OIDs 1200:1300\n",
      "Successfully returned OIDs 1300:1400\n",
      "Successfully returned OIDs 1400:1500\n",
      "Successfully returned OIDs 1500:1600\n",
      "Successfully returned OIDs 1600:1700\n",
      "Successfully returned OIDs 1700:1800\n",
      "Successfully returned OIDs 1800:1900\n",
      "Successfully returned OIDs 1900:2000\n",
      "Successfully returned OIDs 2000:2100\n",
      "Successfully returned OIDs 2100:2200\n",
      "Successfully returned OIDs 2200:2300\n",
      "Successfully returned OIDs 2300:2400\n",
      "Successfully returned OIDs 2400:2500\n",
      "Successfully returned OIDs 2500:2600\n",
      "Successfully returned OIDs 2600:2700\n",
      "Successfully returned OIDs 2700:2800\n",
      "Successfully returned OIDs 2800:2900\n"
     ]
    }
   ],
   "source": [
    "chunk_size = 100\n",
    "geojson_features_list = []\n",
    "\n",
    "i = 0\n",
    "while i <= max_features:\n",
    "    oid_min = i\n",
    "    oid_max = i + chunk_size\n",
    "    new_url = base_url + 'query?&where=objectid>={0}+and+objectid<={1}&outFields=*&f=geojson'.format(oid_min, \n",
    "                                                                                         oid_max)\n",
    "    response = request(method='GET', \n",
    "                       url=new_url)\n",
    "    assert response.ok\n",
    "\n",
    "    features = response.json()['features']\n",
    "    geojson_features_list += features\n",
    "    i += chunk_size\n",
    "    print(\"Successfully returned OIDs {0}:{1}\".format(oid_min,\n",
    "                                                      oid_max))\n",
    "\n",
    "#We are hard coding in the EPSG:3857 WGS coordinate reference system here. \n",
    "tide_station_gdf = gpd.GeoDataFrame.from_features(geojson_features_list, \n",
    "                                             crs='epsg:4326')\n",
    "\n",
    "del geojson_features_list"
   ]
  },
  {
   "cell_type": "code",
   "execution_count": 5,
   "metadata": {},
   "outputs": [
    {
     "data": {
      "text/plain": [
       "'https://tidesandcurrents.noaa.gov/inventory.html?id=1495000'"
      ]
     },
     "execution_count": 5,
     "metadata": {},
     "output_type": "execute_result"
    }
   ],
   "source": [
    "tide_station_gdf.iloc[0]['data']"
   ]
  },
  {
   "cell_type": "code",
   "execution_count": 6,
   "metadata": {},
   "outputs": [],
   "source": [
    "def run_next_cell(ev):\n",
    "    display(Javascript('IPython.notebook.execute_cell_range(IPython.notebook.get_selected_index()+1, IPython.notebook.get_selected_index()+2)'))\n",
    "def onclick(event, feature, properties, id):\n",
    "    print(feature['properties']['id'])\n",
    "    print(feature)"
   ]
  },
  {
   "cell_type": "code",
   "execution_count": 7,
   "metadata": {},
   "outputs": [
    {
     "data": {
      "application/vnd.jupyter.widget-view+json": {
       "model_id": "d86401a3dd6643a58d4b7f08e688a7f6",
       "version_major": 2,
       "version_minor": 0
      },
      "text/plain": [
       "Map(center=[37.41027937345032, -93.3070639065408], controls=(ZoomControl(options=['position', 'zoom_in_text', …"
      ]
     },
     "metadata": {},
     "output_type": "display_data"
    }
   ],
   "source": [
    "center = MultiPoint(tide_station_gdf['geometry'].values).centroid\n",
    "m = Map(center=(center.y, center.x), zoom=3, basemap=basemaps.Esri.WorldTopoMap)\n",
    "tide_data = GeoData(geo_dataframe=tide_station_gdf, \n",
    "                    style={'color':'purple', \n",
    "                           'opacity':3},\n",
    "                   name='Tide Stations')\n",
    "tide_data.on_click(onclick)\n",
    "m.add_layer(tide_data)\n",
    "m"
   ]
  },
  {
   "cell_type": "code",
   "execution_count": null,
   "metadata": {},
   "outputs": [],
   "source": []
  },
  {
   "cell_type": "code",
   "execution_count": null,
   "metadata": {},
   "outputs": [],
   "source": []
  },
  {
   "cell_type": "code",
   "execution_count": 8,
   "metadata": {},
   "outputs": [
    {
     "data": {
      "application/vnd.jupyter.widget-view+json": {
       "model_id": "61abed4184cb455a80fc08c63f17d4be",
       "version_major": 2,
       "version_minor": 0
      },
      "text/plain": [
       "Button(description='Run Cell', style=ButtonStyle())"
      ]
     },
     "metadata": {},
     "output_type": "display_data"
    }
   ],
   "source": [
    "button = widgets.Button(description = 'Run Cell')\n",
    "button.on_click(run_next_cell)\n",
    "display(button)"
   ]
  },
  {
   "cell_type": "code",
   "execution_count": null,
   "metadata": {},
   "outputs": [],
   "source": []
  },
  {
   "cell_type": "code",
   "execution_count": null,
   "metadata": {},
   "outputs": [],
   "source": []
  },
  {
   "cell_type": "code",
   "execution_count": null,
   "metadata": {},
   "outputs": [],
   "source": []
  }
 ],
 "metadata": {
  "kernelspec": {
   "display_name": "Python 3",
   "language": "python",
   "name": "python3"
  },
  "language_info": {
   "codemirror_mode": {
    "name": "ipython",
    "version": 3
   },
   "file_extension": ".py",
   "mimetype": "text/x-python",
   "name": "python",
   "nbconvert_exporter": "python",
   "pygments_lexer": "ipython3",
   "version": "3.7.8"
  }
 },
 "nbformat": 4,
 "nbformat_minor": 4
}
